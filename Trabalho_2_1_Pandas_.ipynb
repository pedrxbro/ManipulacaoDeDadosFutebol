{
  "nbformat": 4,
  "nbformat_minor": 0,
  "metadata": {
    "colab": {
      "provenance": [],
      "authorship_tag": "ABX9TyMXJiLelyEycx2WRqEiF1GP",
      "include_colab_link": true
    },
    "kernelspec": {
      "name": "python3",
      "display_name": "Python 3"
    },
    "language_info": {
      "name": "python"
    }
  },
  "cells": [
    {
      "cell_type": "markdown",
      "metadata": {
        "id": "view-in-github",
        "colab_type": "text"
      },
      "source": [
        "<a href=\"https://colab.research.google.com/github/pedrxbro/ManipulacaoDeDadosFutebol/blob/main/Trabalho_2_1_Pandas_.ipynb\" target=\"_parent\"><img src=\"https://colab.research.google.com/assets/colab-badge.svg\" alt=\"Open In Colab\"/></a>"
      ]
    },
    {
      "cell_type": "code",
      "execution_count": null,
      "metadata": {
        "id": "gl0x2MkktUeC"
      },
      "outputs": [],
      "source": [
        "#https://www.kaggle.com/datasets/prateekchauhands/football-data-top-5-european-leagues?select=past-data.csv"
      ]
    },
    {
      "cell_type": "markdown",
      "source": [
        "Tópicos:\n",
        "\n",
        "\n",
        "1. Filtros\n",
        "\n",
        "  1.1 Simples: Temporada e ligas\n",
        "\n",
        "  1.2 Composto: Times consistentes e times da virada.\n",
        "\n",
        "2. Médias e Desvio Padrão\n",
        "\n",
        "  2.1 Gols por liga.\n",
        "\n",
        "  2.2 Faltas cometidas por liga.\n",
        "\n",
        "  2.3 Cartões amarelos por liga.\n",
        "\n",
        "  2.4 Cartões vermelhos por liga.\n",
        "\n",
        "\n",
        "3. Operações Groupby\n",
        "\n",
        "  3.1 Groupby entre:\n",
        "\n",
        "  3.1.1 Agrupar times os times consistentes, previamente filtrado.\n",
        "\n",
        "  3.1.2 Agrupar os times da virada, previamente filtrado.\n",
        "\n",
        "  3.1.3 Agrupar os chutes toatais, em casa e fora. Que posteriormente irão resultar em um cálculo de taxa de conversão entre as ligas.\n",
        "\n",
        "  3.2 Gráficos\n",
        "\n",
        "  3.2.1 Gols totais: A soma dos gols da casa e fora, por liga.\n",
        "  \n",
        "  3.2.2 Liga mais precisa: Pegar o cálculo prévio e plotar em um gráfico, mostrando qual liga possui maior taxa de acerto nos chutes.\n",
        "\n",
        "  3.2.3 Liga mais violenta: Com base nos cálculos de média enter faltas, cartões amarelos e vermelhos, é visto qual a liga possui o título de ''mais violenta'' entre essas.\n",
        "\n",
        "\n",
        "\n"
      ],
      "metadata": {
        "id": "-BEgn3ILk68T"
      }
    },
    {
      "cell_type": "code",
      "source": [
        "import matplotlib.pyplot as plt\n",
        "import pandas as pd\n",
        "import numpy as np"
      ],
      "metadata": {
        "id": "dWGg7da9pCJw"
      },
      "execution_count": null,
      "outputs": []
    },
    {
      "cell_type": "code",
      "source": [
        "teams = pd.read_csv('past-data.csv')"
      ],
      "metadata": {
        "id": "bI9g9racpVcH",
        "colab": {
          "base_uri": "https://localhost:8080/"
        },
        "outputId": "28bc3f48-0929-4f93-b0fc-19a0e56d3fea"
      },
      "execution_count": null,
      "outputs": [
        {
          "output_type": "stream",
          "name": "stderr",
          "text": [
            "<ipython-input-2-bab871ddd5ed>:1: DtypeWarning: Columns (3,12) have mixed types. Specify dtype option on import or set low_memory=False.\n",
            "  teams = pd.read_csv('past-data.csv')\n"
          ]
        }
      ]
    },
    {
      "cell_type": "markdown",
      "source": [
        "Filtros simples.\n",
        "\n",
        "\n",
        "1.1.1 Primeiramente filtrar por temporada, visto que dentro do dataframe há outras temporadas avulsas, optei por deixar a mais recente da base de dados.\n",
        "\n",
        "1.1.2 Segundamente, filtrar por liga. Criado uma função para extrair os dados por liga e atribuir à uma variável específica.\n",
        "\n",
        "\n",
        "Agrupando dados qualitativos, que irão ser utilizados até o final do programa."
      ],
      "metadata": {
        "id": "ZAoIrnPWMsIc"
      }
    },
    {
      "cell_type": "code",
      "source": [
        "#Filtrar para uma única temporada\n",
        "filterSeason = teams['Season'] == '22-23'\n",
        "season22_23 = teams[filterSeason]\n",
        "\n",
        "#Filtrar por liga\n",
        "def filterTeamsByLeague(teamsDataFrames):\n",
        "  leagues = {\n",
        "    \"Premier League\": teamsDataFrames[teamsDataFrames['Div'] == 'Premier League'],\n",
        "    \"LaLiga\": teamsDataFrames[teamsDataFrames['Div'] == 'LaLiga'],\n",
        "    \"Serie A\": teamsDataFrames[teamsDataFrames['Div'] == 'Serie A'],\n",
        "    \"Bundesliga\": teamsDataFrames[teamsDataFrames['Div'] == 'Bundesliga'],\n",
        "    \"Ligue 1\": teamsDataFrames[teamsDataFrames['Div'] == 'Ligue 1']\n",
        "  }\n",
        "\n",
        "  return leagues\n",
        "\n",
        "teamsByLeague = filterTeamsByLeague(season22_23)\n",
        "\n",
        "premierLeague = teamsByLeague[\"Premier League\"]\n",
        "laLiga = teamsByLeague[\"LaLiga\"]\n",
        "serieA = teamsByLeague[\"Serie A\"]\n",
        "bundesliga = teamsByLeague[\"Bundesliga\"]\n",
        "ligue1 = teamsByLeague[\"Ligue 1\"]"
      ],
      "metadata": {
        "id": "186ajc60psK3"
      },
      "execution_count": null,
      "outputs": []
    },
    {
      "cell_type": "markdown",
      "source": [
        "1.2.1 Filtro composto que separa os times que começaram e terminaram o jogo ganhando, dos times que começaram perdendo e reverteram o resultado.\n"
      ],
      "metadata": {
        "id": "oNhkUXbodofF"
      }
    },
    {
      "cell_type": "code",
      "source": [
        "def filterWinningTeams(teamsDataFrames, league):\n",
        "  leagueDataFrame = teamsDataFrames[teamsDataFrames['Div'] == league]\n",
        "  #Condição para o time da casa vencer no intervalo e no final (Casa e Fora)\n",
        "  HTWins = (leagueDataFrame['HTHG'] > leagueDataFrame['HTAG']) & (leagueDataFrame['FTHG'] > leagueDataFrame['FTAG'])\n",
        "  ATWins = (leagueDataFrame['HTAG'] > leagueDataFrame['HTHG']) & (leagueDataFrame['FTAG'] > leagueDataFrame['FTHG'])\n",
        "\n",
        "  filterFinalWin = HTWins | ATWins\n",
        "  winningTeamsAtHalfTimeAndFinal = leagueDataFrame[filterFinalWin]\n",
        "  return winningTeamsAtHalfTimeAndFinal\n",
        "\n",
        "def filterComebackTeams(teamsDataFrames, league):\n",
        "  leagueDataFrame = teamsDataFrames[teamsDataFrames['Div'] == league]\n",
        "\n",
        "  #Condição de virada (Casa e Fora)\n",
        "  HTComeback = (leagueDataFrame['HTHG'] < leagueDataFrame['HTAG']) & (leagueDataFrame['FTHG'] > leagueDataFrame['FTAG'])\n",
        "  ATComeback = (leagueDataFrame['HTAG'] < leagueDataFrame['HTHG']) & (leagueDataFrame['FTAG'] > leagueDataFrame['FTHG'])\n",
        "  comebacks = leagueDataFrame[HTComeback | ATComeback]\n",
        "\n",
        "  return comebacks\n",
        "\n",
        "winningTeamsPremierLeague = filterWinningTeams(season22_23, 'Premier League')\n",
        "comebackTeamsPremierLeague = filterComebackTeams(season22_23, 'Premier League')\n",
        "\n",
        "winningTeamsLaLiga = filterWinningTeams(season22_23, 'LaLiga')\n",
        "comebackTeamsLaLiga = filterComebackTeams(season22_23, 'LaLiga')\n",
        "\n",
        "winningTeamsSerieA = filterWinningTeams(season22_23, 'Serie A')\n",
        "comebackTeamsSerieA = filterComebackTeams(season22_23, 'Serie A')\n",
        "\n",
        "winningTeamsBundesliga = filterWinningTeams(season22_23, 'Bundesliga')\n",
        "comebackTeamsBundesliga = filterComebackTeams(season22_23, 'Bundesliga')\n",
        "\n",
        "winningTeamsLigue1 = filterWinningTeams(season22_23, 'Ligue 1')\n",
        "comebackTeamsLigue1 = filterComebackTeams(season22_23, 'Ligue 1')\n"
      ],
      "metadata": {
        "id": "E4xLjKjxdwx-"
      },
      "execution_count": null,
      "outputs": []
    },
    {
      "cell_type": "markdown",
      "source": [
        "3.1.1: Times consistentes por liga.\n",
        "\n",
        "Isto é, quais foram os times que **mais** começaram e terminaram o jogo ganhando."
      ],
      "metadata": {
        "id": "h69pG-fagCeK"
      }
    },
    {
      "cell_type": "code",
      "source": [
        "def countConsistentTeams(winningTeamsAtHalfTimeAndFinal):\n",
        "  #Agrupar por time e contar o número de vitórias no intervalo e no final\n",
        "  winningTeamsCounts = winningTeamsAtHalfTimeAndFinal.groupby(['HomeTeam']).size() + winningTeamsAtHalfTimeAndFinal.groupby(['AwayTeam']).size()\n",
        "  return winningTeamsCounts\n",
        "\n",
        "def printConsistentTeamsCounts(consistentTeamsCount, league):\n",
        "  consistentTeamsCount = consistentTeamsCount.sort_values(ascending=False)\n",
        "  print(f\"Top 5 times consistentes na {league}:\")\n",
        "  for team, count in consistentTeamsCount.items():\n",
        "    print(f\"{team}: {count}\")\n",
        "\n",
        "consistentTeamsCountPremierLeague = countConsistentTeams(winningTeamsPremierLeague)\n",
        "printConsistentTeamsCounts(consistentTeamsCountPremierLeague.head(5), \"Premier League\")\n",
        "print()\n",
        "\n",
        "consistentTeamsCountLaLiga = countConsistentTeams(winningTeamsLaLiga)\n",
        "printConsistentTeamsCounts(consistentTeamsCountLaLiga.head(5), \"LaLiga\")\n",
        "print()\n",
        "\n",
        "consistentTeamsCountSerieA = countConsistentTeams(winningTeamsSerieA)\n",
        "printConsistentTeamsCounts(consistentTeamsCountSerieA.head(5), \"Serie A\")\n",
        "print()\n",
        "\n",
        "consistentTeamsCountBundesliga = countConsistentTeams(winningTeamsBundesliga)\n",
        "printConsistentTeamsCounts(consistentTeamsCountBundesliga.head(5), \"Bundesliga\")\n",
        "print()\n",
        "\n",
        "consistentTeamsCountLigue1 = countConsistentTeams(winningTeamsLigue1)\n",
        "printConsistentTeamsCounts(consistentTeamsCountLigue1.head(5), \"Ligue 1\")\n"
      ],
      "metadata": {
        "colab": {
          "base_uri": "https://localhost:8080/"
        },
        "id": "q2XNCz0zRzZR",
        "outputId": "52146d5b-1ae2-4b2b-9b7f-3523e7c434f1"
      },
      "execution_count": null,
      "outputs": [
        {
          "output_type": "stream",
          "name": "stdout",
          "text": [
            "Top 5 times consistentes na Premier League:\n",
            "Aston Villa: 22\n",
            "Arsenal: 20\n",
            "Bournemouth: 20\n",
            "Brentford: 18\n",
            "Brighton: 17\n",
            "\n",
            "Top 5 times consistentes na LaLiga:\n",
            "Barcelona: 24\n",
            "Ath Bilbao: 19\n",
            "Ath Madrid: 19\n",
            "Almeria: 18\n",
            "Betis: 14\n",
            "\n",
            "Top 5 times consistentes na Serie A:\n",
            "Cremonese: 18\n",
            "Atalanta: 17\n",
            "Fiorentina: 15\n",
            "Bologna: 14\n",
            "Empoli: 11\n",
            "\n",
            "Top 5 times consistentes na Bundesliga:\n",
            "Bochum: 21\n",
            "Dortmund: 19\n",
            "Bayern Munich: 18\n",
            "Ein Frankfurt: 16\n",
            "Augsburg: 8\n",
            "\n",
            "Top 5 times consistentes na Ligue 1:\n",
            "Angers: 24\n",
            "Ajaccio: 21\n",
            "Auxerre: 15\n",
            "Brest: 15\n",
            "Clermont: 15\n"
          ]
        }
      ]
    },
    {
      "cell_type": "markdown",
      "source": [
        "3.1.2: Times que deram a volta por cima.\n",
        "\n",
        "Isto é, quais foram os times que **mais** realizaram viradas por liga."
      ],
      "metadata": {
        "id": "QJW_52OVgpyJ"
      }
    },
    {
      "cell_type": "code",
      "source": [
        "def countComebackTeams(comebacks):\n",
        "  homeComebacks = comebacks[comebacks['HTHG'] < comebacks['HTAG']]\n",
        "  awayComebacks = comebacks[comebacks['HTAG'] < comebacks['HTHG']]\n",
        "\n",
        "  homeComebacksCount = homeComebacks.groupby('HomeTeam').size()\n",
        "  awayComebacksCount = awayComebacks.groupby('AwayTeam').size()\n",
        "\n",
        "  comebackTeamsCount = homeComebacksCount.add(awayComebacksCount, fill_value=0)\n",
        "\n",
        "  return comebackTeamsCount\n",
        "\n",
        "def printComebackTeamsCount(comebacksCount, league):\n",
        "  comebackTeamsCount = comebacksCount.sort_values(ascending=False)\n",
        "  print(f\"Top 5 times que mais fizeram reviravoltas na {league}:\")\n",
        "  for team, count in comebackTeamsCount.items():\n",
        "    print(f\"{team}: {count}\")\n",
        "\n",
        "comebackTeamsCountPremierLeague = countComebackTeams(winningTeamsPremierLeague)\n",
        "printComebackTeamsCount(comebackTeamsCountPremierLeague.head(5), \"Premier League\")\n",
        "print()\n",
        "\n",
        "comebackTeamsCountLaLiga = countComebackTeams(winningTeamsLaLiga)\n",
        "printComebackTeamsCount(comebackTeamsCountLaLiga.head(5), \"LaLiga\")\n",
        "print()\n",
        "\n",
        "comebackTeamsCountSerieA = countComebackTeams(winningTeamsSerieA)\n",
        "printComebackTeamsCount(comebackTeamsCountSerieA.head(5), \"Serie A\")\n",
        "print()\n",
        "\n",
        "comebackTeamsCountBundesliga = countComebackTeams(winningTeamsBundesliga)\n",
        "printComebackTeamsCount(comebackTeamsCountBundesliga.head(5), \"Bundesliga\")\n",
        "print()\n",
        "\n",
        "comebackTeamsCountLigue1 = countComebackTeams(winningTeamsLigue1)\n",
        "printComebackTeamsCount(comebackTeamsCountLigue1.head(5), \"Ligue 1\")"
      ],
      "metadata": {
        "id": "T7JZTabFhE6w",
        "colab": {
          "base_uri": "https://localhost:8080/"
        },
        "outputId": "36cf0330-1d93-435f-8f56-d708955eb9dc"
      },
      "execution_count": null,
      "outputs": [
        {
          "output_type": "stream",
          "name": "stdout",
          "text": [
            "Top 5 times que mais fizeram reviravoltas na Premier League:\n",
            "Bournemouth: 15.0\n",
            "Aston Villa: 10.0\n",
            "Brentford: 8.0\n",
            "Brighton: 7.0\n",
            "Arsenal: 3.0\n",
            "\n",
            "Top 5 times que mais fizeram reviravoltas na LaLiga:\n",
            "Almeria: 10.0\n",
            "Ath Bilbao: 7.0\n",
            "Ath Madrid: 6.0\n",
            "Barcelona: 6.0\n",
            "Betis: 4.0\n",
            "\n",
            "Top 5 times que mais fizeram reviravoltas na Serie A:\n",
            "Cremonese: 14.0\n",
            "Bologna: 8.0\n",
            "Empoli: 7.0\n",
            "Atalanta: 6.0\n",
            "Fiorentina: 6.0\n",
            "\n",
            "Top 5 times que mais fizeram reviravoltas na Bundesliga:\n",
            "Bochum: 15.0\n",
            "FC Koln: 9.0\n",
            "Augsburg: 7.0\n",
            "Dortmund: 5.0\n",
            "Ein Frankfurt: 5.0\n",
            "\n",
            "Top 5 times que mais fizeram reviravoltas na Ligue 1:\n",
            "Angers: 23.0\n",
            "Ajaccio: 19.0\n",
            "Auxerre: 11.0\n",
            "Brest: 9.0\n",
            "Clermont: 7.0\n"
          ]
        }
      ]
    },
    {
      "cell_type": "markdown",
      "source": [
        "Coluna criada: Total gols. É a junção entre FTHG (Full Time Home goals) e FTAG (Full Time Away Goals). Ou seja, gols do time da casa no final do jogo e do time fora, respectivamente."
      ],
      "metadata": {
        "id": "bId1AkOXChBC"
      }
    },
    {
      "cell_type": "code",
      "source": [
        "#Calcular a quantidade total de gols para cada liga.\n",
        "def calculateGoalsByLeague(league):\n",
        "  league.loc[:, 'TotalGoals'] = league['FTHG'] + league['FTAG']\n",
        "  totalLeagueGoals = league['TotalGoals'].sum()\n",
        "  return totalLeagueGoals\n",
        "\n",
        "premierLeagueTotalGoals = calculateGoalsByLeague(premierLeague)\n",
        "laLigaTotalGoals = calculateGoalsByLeague(laLiga)\n",
        "serieATotalGoals = calculateGoalsByLeague(serieA)\n",
        "bundesligaTotalGoals = calculateGoalsByLeague(bundesliga)\n",
        "ligue1TotalGoals = calculateGoalsByLeague(ligue1)"
      ],
      "metadata": {
        "id": "iTG66_yVJ7hy"
      },
      "execution_count": null,
      "outputs": []
    },
    {
      "cell_type": "markdown",
      "source": [
        "3.2.1: Gráfico para os gols totais das determinadas ligas."
      ],
      "metadata": {
        "id": "yqPEwENRcaxf"
      }
    },
    {
      "cell_type": "code",
      "source": [
        "allLeagues = ['Premier League', 'La Liga', 'Serie A', 'Bundesliga', 'Ligue 1']\n",
        "leagueColors = ['#FF4B44', '#D10214', '#0578FF', '#091C3E', '#340040']\n",
        "totalGoals = [premierLeagueTotalGoals, laLigaTotalGoals, serieATotalGoals, bundesligaTotalGoals, ligue1TotalGoals]\n",
        "\n",
        "#Ordenar em ordem crescende, tanto os nomes das ligas, quanto seus respectivos gols.\n",
        "allLeagues, totalGoals = zip(*sorted(zip(allLeagues, totalGoals), key=lambda x: x[1]))\n",
        "\n",
        "plt.figure(figsize=(10, 8))\n",
        "#Cores características das respectivas ligas.\n",
        "plt.bar(allLeagues, totalGoals, color = leagueColors)\n",
        "plt.title('Total de gols por liga')\n",
        "plt.ylabel('Total de gols')\n",
        "plt.tight_layout()\n",
        "plt.savefig('TotalGolsPorLiga.png')\n",
        "plt.show()"
      ],
      "metadata": {
        "colab": {
          "base_uri": "https://localhost:8080/",
          "height": 694
        },
        "id": "0F3G-gAuZxL1",
        "outputId": "0b427d42-29bb-428d-93d1-bac5b41ad93f"
      },
      "execution_count": null,
      "outputs": [
        {
          "output_type": "display_data",
          "data": {
            "text/plain": [
              "<Figure size 1000x800 with 1 Axes>"
            ],
            "image/png": "[encoded data removed]"
          },
          "metadata": {}
        }
      ]
    },
    {
      "cell_type": "markdown",
      "source": [
        "2.1 - Cálculo de média e variação média para os gols totais de cada liga."
      ],
      "metadata": {
        "id": "3EhdrueEcUXo"
      }
    },
    {
      "cell_type": "code",
      "source": [
        "#Calcular a média e desvio padrão de todos os gols por liga\n",
        "def calculateMeanAndStandardDeviation(teamsDataFrames, columnName):\n",
        "  mean = teamsDataFrames[columnName].mean()\n",
        "  std = teamsDataFrames[columnName].std()\n",
        "  return mean, std\n",
        "\n",
        "meanPremierLeagueGoals, stdPremierLeagueGoals = calculateMeanAndStandardDeviation(premierLeague, ['TotalGoals'])\n",
        "meanLaLigaGoals, stdLaLigaGoals = calculateMeanAndStandardDeviation(laLiga, ['TotalGoals'])\n",
        "meanSerieAGoals, stdSerieAGoals = calculateMeanAndStandardDeviation(serieA, ['TotalGoals'])\n",
        "meanBundesligaGoals, stdBundesligaGoals = calculateMeanAndStandardDeviation(bundesliga, ['TotalGoals'])\n",
        "meanLigue1Goals, stdLigue1Goals = calculateMeanAndStandardDeviation(ligue1, ['TotalGoals'])"
      ],
      "metadata": {
        "id": "eZii1KlCJ0qF"
      },
      "execution_count": null,
      "outputs": []
    },
    {
      "cell_type": "markdown",
      "source": [
        "3.1.3: Contar os chutes, por liga.\n",
        "\n",
        " Após isso, é feito o cálculo de taxa de conversão, ou seja, a cada quantos chutes, é resultante em gol."
      ],
      "metadata": {
        "id": "5QS4kUrCUrHS"
      }
    },
    {
      "cell_type": "code",
      "source": [
        "def countShotsPerLeague(teamsDataFrames):\n",
        "  shotsPerLeague = teamsDataFrames.groupby('Div')[['HS', 'AS']].sum()\n",
        "  shotsPerLeague['TotalShots'] = shotsPerLeague['HS'] + shotsPerLeague['AS']\n",
        "\n",
        "  return shotsPerLeague\n",
        "\n",
        "def countConversionRate(teamsDataFrames, league, leagueTotalGoals):\n",
        "  shotsPerLeague = countShotsPerLeague(teamsDataFrames)\n",
        "  totalShots = shotsPerLeague.loc[league, 'TotalShots']\n",
        "  conversionRate = (leagueTotalGoals / totalShots) * 100\n",
        "\n",
        "  return conversionRate\n",
        "\n",
        "premierLeagueConversionRate = countConversionRate(season22_23, 'Premier League', premierLeagueTotalGoals)\n",
        "laLigaConversionRate = countConversionRate(season22_23, 'LaLiga', laLigaTotalGoals)\n",
        "serieAConversionRate = countConversionRate(season22_23, 'Serie A', serieATotalGoals)\n",
        "bundesligaConversionRate = countConversionRate(season22_23, 'Bundesliga', bundesligaTotalGoals)\n",
        "ligue1ConversionRate = countConversionRate(season22_23, 'Ligue 1', ligue1TotalGoals)"
      ],
      "metadata": {
        "id": "og_wLTOGUHF5"
      },
      "execution_count": null,
      "outputs": []
    },
    {
      "cell_type": "markdown",
      "source": [
        "3.2.2: Gráfico para mostrar qual liga é mais precisa."
      ],
      "metadata": {
        "id": "-NQ-lb-HaxUr"
      }
    },
    {
      "cell_type": "code",
      "source": [
        "leagues = ['Premier League', 'LaLiga', 'Serie A', 'Bundesliga', 'Ligue 1']\n",
        "leagueColors = '#0578FF','#FF4B44','#340040','#091C3E','#D10214'\n",
        "\n",
        "conversionRates = [premierLeagueConversionRate, laLigaConversionRate, serieAConversionRate, bundesligaConversionRate, ligue1ConversionRate]\n",
        "leagues, conversionRates = zip(*sorted(zip(leagues, conversionRates), key=lambda x: x[1]))\n",
        "\n",
        "plt.figure(figsize=(10, 8))\n",
        "plt.bar(leagues, conversionRates, color = leagueColors)\n",
        "plt.ylabel('Taxa de Conversão (%)')\n",
        "plt.title('Ligas mais precisas da Europa')\n",
        "plt.tight_layout()\n",
        "plt.savefig('TaxaConversaoLigas.png')\n",
        "plt.show()"
      ],
      "metadata": {
        "colab": {
          "base_uri": "https://localhost:8080/",
          "height": 694
        },
        "id": "nPqXvXjXawgX",
        "outputId": "3617eda5-c422-465e-a94f-ba0b8c4940d8"
      },
      "execution_count": null,
      "outputs": [
        {
          "output_type": "display_data",
          "data": {
            "text/plain": [
              "<Figure size 1000x800 with 1 Axes>"
            ],
            "image/png": "[encoded data removed]"
          },
          "metadata": {}
        }
      ]
    },
    {
      "cell_type": "markdown",
      "source": [
        "2.1: Contagem de faltas. Média e desvio padrão das faltas, para cada liga."
      ],
      "metadata": {
        "id": "L-YjtLr3vZCS"
      }
    },
    {
      "cell_type": "code",
      "source": [
        "def countFoulsPerLeague(teamsDataFrames, league):\n",
        "  leagueDataFrame = teamsDataFrames[teamsDataFrames['Div'] == league]\n",
        "  totalFouls = leagueDataFrame['HF'] + leagueDataFrame['AF']\n",
        "  totalFoulsInLeague = totalFouls.sum()\n",
        "\n",
        "  meanFouls = totalFouls.mean()\n",
        "  stdFouls = totalFouls.std()\n",
        "\n",
        "  return totalFoulsInLeague, meanFouls, stdFouls\n",
        "\n",
        "premierLeagueTotalFouls, premierLeagueMean, premierLeagueStdDev = countFoulsPerLeague(season22_23, 'Premier League')\n",
        "laLigaTotalFouls, laLigaMean, laLigaStdDev = countFoulsPerLeague(season22_23, 'LaLiga')\n",
        "serieATotalFouls, serieAMean, serieAStdDev = countFoulsPerLeague(season22_23, 'Serie A')\n",
        "bundesligaTotalFouls, bundesligaMean, bundesligaStdDev = countFoulsPerLeague(season22_23, 'Bundesliga')\n",
        "ligue1TotalFouls, ligue1Mean, ligue1StdDev = countFoulsPerLeague(season22_23, 'Ligue 1')"
      ],
      "metadata": {
        "id": "3KwkJ-15ssgI"
      },
      "execution_count": null,
      "outputs": []
    },
    {
      "cell_type": "markdown",
      "source": [
        "2.3: Contagem de cartoes amarelos. Média e desvio padrão para cada liga."
      ],
      "metadata": {
        "id": "cm4wAhaQvzlq"
      }
    },
    {
      "cell_type": "code",
      "source": [
        "def countYellowCardsPerLeague(teamsDataFrames, league):\n",
        "  leagueDataFrame = teamsDataFrames[teamsDataFrames['Div'] == league]\n",
        "  totalYellowCards = leagueDataFrame['HY'] + leagueDataFrame['AY']\n",
        "  totalYellowCardsInLeague = totalYellowCards.sum()\n",
        "\n",
        "  meanYellowCards = totalYellowCards.mean()\n",
        "  stdYellowCards = totalYellowCards.std()\n",
        "\n",
        "  return totalYellowCardsInLeague, meanYellowCards, stdYellowCards\n",
        "\n",
        "premierLeagueTotalYellowCards, premierLeagueMeanYellow, premierLeagueStdDevYellow = countYellowCardsPerLeague(season22_23, 'Premier League')\n",
        "laLigaTotalYellowCards, laLigaMeanYellow, laLigaStdDevYellow = countYellowCardsPerLeague(season22_23, 'LaLiga')\n",
        "serieATotalYellowCards, serieAMeanYellow, serieAStdDevYellow = countYellowCardsPerLeague(season22_23, 'Serie A')\n",
        "bundesligaTotalYellowCards, bundesligaMeanYellow, bundesligaStdDevYellow = countYellowCardsPerLeague(season22_23, 'Bundesliga')\n",
        "ligue1TotalYellowCards, ligue1MeanYellow, ligue1StdDevYellow = countYellowCardsPerLeague(season22_23, 'Ligue 1')\n"
      ],
      "metadata": {
        "id": "v2ANKVcxvxV2"
      },
      "execution_count": null,
      "outputs": []
    },
    {
      "cell_type": "markdown",
      "source": [
        "2.4 - Contagem de cartões vermelhos. Média e desvio padrão para cada liga."
      ],
      "metadata": {
        "id": "cu7Alp21wMhy"
      }
    },
    {
      "cell_type": "code",
      "source": [
        "def countRedCardsPerLeague(teamsDataFrames, league):\n",
        "  leagueDataFrame = teamsDataFrames[teamsDataFrames['Div'] == league]\n",
        "  totalRedCards = leagueDataFrame['HR'] + leagueDataFrame['AR']\n",
        "  totalRedCardsInLeague = totalRedCards.sum()\n",
        "\n",
        "  meanRedCards = totalRedCards.mean()\n",
        "  stdRedCards = totalRedCards.std()\n",
        "\n",
        "  return totalRedCardsInLeague, meanRedCards, stdRedCards\n",
        "\n",
        "premierLeagueTotalRedCards, premierLeagueMeanRed, premierLeagueStdDevRed = countRedCardsPerLeague(season22_23, 'Premier League')\n",
        "laLigaTotalRedCards, laLigaMeanRed, laLigaStdDevRed = countRedCardsPerLeague(season22_23, 'LaLiga')\n",
        "serieATotalRedCards, serieAMeanRed, serieAStdDevRed = countRedCardsPerLeague(season22_23, 'Serie A')\n",
        "bundesligaTotalRedCards, bundesligaMeanRed, bundesligaStdDevRed = countRedCardsPerLeague(season22_23, 'Bundesliga')\n",
        "ligue1TotalRedCards, ligue1MeanRed, ligue1StdDevRed = countRedCardsPerLeague(season22_23, 'Ligue 1')"
      ],
      "metadata": {
        "id": "LjXEhkpcwAXk"
      },
      "execution_count": null,
      "outputs": []
    },
    {
      "cell_type": "markdown",
      "source": [
        "Calculando, organizando as médias e ordenando antes de plotar."
      ],
      "metadata": {
        "id": "fxuJNEzeucAJ"
      }
    },
    {
      "cell_type": "code",
      "source": [
        "leagues = ['Premier League', 'LaLiga', 'Serie A', 'Bundesliga', 'Ligue 1']\n",
        "foulMeans = [premierLeagueMean, laLigaMean, serieAMean, bundesligaMean, ligue1Mean]\n",
        "yellowCardMeans = [premierLeagueMeanYellow, laLigaMeanYellow, serieAMeanYellow, bundesligaMeanYellow, ligue1MeanYellow]\n",
        "redCardMeans = [premierLeagueMeanRed, laLigaMeanRed, serieAMeanRed, bundesligaMeanRed, ligue1MeanRed]\n",
        "\n",
        "#Calculando a soma das médias por liga.\n",
        "total_means = [foulMeans[i] + yellowCardMeans[i] + redCardMeans[i] for i in range(len(leagues))]\n",
        "#Criando um dicionário com as ligas e suas respectivas médias totais.\n",
        "leagueTotals = dict(zip(leagues, total_means))\n",
        "#Ordenando o dicionário pela soma das médias em ordem decrescente.\n",
        "sortedLeagueTotals = sorted(leagueTotals.items(), key=lambda x: x[1], reverse=True)\n",
        "#Separando os nomes das ligas e as somas totais.\n",
        "leaguesSorted = [item[0] for item in sortedLeagueTotals]\n",
        "totalMeansSorted = [item[1] for item in sortedLeagueTotals]"
      ],
      "metadata": {
        "id": "njvfRqYWwnNh"
      },
      "execution_count": null,
      "outputs": []
    },
    {
      "cell_type": "markdown",
      "source": [
        "3.2.3: Plot das ligas mais violentas"
      ],
      "metadata": {
        "id": "D20Rkk0VuxmI"
      }
    },
    {
      "cell_type": "code",
      "source": [
        "leagueColors = ('#FF4B44','#0578FF', '#091C3E', '#D10214', '#340040')\n",
        "plt.figure(figsize=(10, 8))\n",
        "plt.barh(leaguesSorted, totalMeansSorted, color= leagueColors)\n",
        "plt.xlabel('Soma das Médias', labelpad = 20)\n",
        "plt.title('Ranking das Ligas Mais violentas')\n",
        "plt.gca().invert_yaxis() #Inverter a ordem das ligas para começar com a mais violenta.\n",
        "plt.savefig('LigasMaisViolentas.png')\n",
        "plt.show()\n"
      ],
      "metadata": {
        "colab": {
          "base_uri": "https://localhost:8080/",
          "height": 689
        },
        "id": "aLygTCjQxXBH",
        "outputId": "b1a8e5d6-12e9-47c1-a788-f3288503bcf6"
      },
      "execution_count": null,
      "outputs": [
        {
          "output_type": "display_data",
          "data": {
            "text/plain": [
              "<Figure size 1000x800 with 1 Axes>"
            ],
            "image/png": "[encoded data removed]"
          },
          "metadata": {}
        }
      ]
    },
    {
      "cell_type": "markdown",
      "source": [
        "Salvar os filtros em arquivos .csv"
      ],
      "metadata": {
        "id": "6WkzmwK8NpmP"
      }
    },
    {
      "cell_type": "code",
      "source": [
        "def saveDataToCsv(data, fileName):\n",
        "  columnsToSave = ['Season', 'Div', 'Date', 'Time', 'HomeTeam', 'AwayTeam', 'HTHG', 'HTAG', 'HTR', 'FTHG', 'FTAG', 'FTR']\n",
        "  data_to_save = data[columnsToSave]\n",
        "  data_to_save.to_csv(fileName, index=False)\n",
        "\n",
        "filteredDataByLeague = {\n",
        "  'Premier League': premierLeague,\n",
        "  'LaLiga': laLiga,\n",
        "  'Serie A': serieA,\n",
        "  'Bundesliga': bundesliga,\n",
        "  'Ligue 1': ligue1\n",
        "}\n",
        "\n",
        "#Salvar filtros simples: temporada e liga.\n",
        "for leagueName, leagueData in filteredDataByLeague.items():\n",
        "  saveDataToCsv(leagueData, f'filtered_{leagueName.lower().replace(\" \", \"_\")}.csv')\n",
        "\n",
        "winningTeamsByLeague = {\n",
        "  'Premier League': winningTeamsPremierLeague,\n",
        "  'LaLiga': winningTeamsLaLiga,\n",
        "  'Serie A': winningTeamsSerieA,\n",
        "  'Bundesliga': winningTeamsBundesliga,\n",
        "  'Ligue 1': winningTeamsLigue1\n",
        "}\n",
        "\n",
        "comebackTeamsByLeague = {\n",
        "  'Premier League': comebackTeamsPremierLeague,\n",
        "  'LaLiga': comebackTeamsLaLiga,\n",
        "  'Serie A': comebackTeamsSerieA,\n",
        "  'Bundesliga': comebackTeamsBundesliga,\n",
        "  'Ligue 1': comebackTeamsLigue1\n",
        "}\n",
        "\n",
        "#Salvar filtros compostos: times consistentes e times da virada\n",
        "for leagueName, winningTeamsData in winningTeamsByLeague.items():\n",
        "  saveDataToCsv(winningTeamsData, f'winningTeams_{leagueName.lower().replace(\" \", \"_\")}.csv')\n",
        "\n",
        "for leagueName, comebackTeamsData in comebackTeamsByLeague.items():\n",
        "  saveDataToCsv(comebackTeamsData, f'comebackTeams_{leagueName.lower().replace(\" \", \"_\")}.csv')"
      ],
      "metadata": {
        "id": "5fwnrkWvVZp1"
      },
      "execution_count": null,
      "outputs": []
    }
  ]
}